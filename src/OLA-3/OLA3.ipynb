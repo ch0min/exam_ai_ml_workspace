{
 "cells": [
  {
   "cell_type": "markdown",
   "metadata": {},
   "source": [
    "# OLA 3"
   ]
  },
  {
   "cell_type": "code",
<<<<<<< HEAD
   "execution_count": 1,
=======
   "execution_count": 35,
>>>>>>> 8c470a05d615c14959e0823aca3eb2ef5844ee04
   "metadata": {
    "ExecuteTime": {
     "end_time": "2024-04-03T13:08:44.536771500Z",
     "start_time": "2024-04-03T13:08:44.507838200Z"
    }
   },
   "outputs": [],
   "source": [
    "import pandas as pd\n",
    "import matplotlib.pyplot as plt\n",
    "import numpy as np\n",
    "import seaborn as sns\n",
    "from sklearn.cluster import KMeans\n",
    "from sklearn.preprocessing import StandardScaler\n",
    "from sklearn.metrics import silhouette_score"
   ]
  },
  {
   "cell_type": "markdown",
   "metadata": {},
   "source": [
    "Finding the most relevant features"
   ]
  },
  {
   "cell_type": "code",
<<<<<<< HEAD
   "execution_count": 2,
=======
   "execution_count": 36,
>>>>>>> 8c470a05d615c14959e0823aca3eb2ef5844ee04
   "metadata": {
    "ExecuteTime": {
     "end_time": "2024-04-03T13:08:45.025964800Z",
     "start_time": "2024-04-03T13:08:44.539771200Z"
    }
   },
   "outputs": [
    {
     "name": "stdout",
     "output_type": "stream",
     "text": [
      "HeartDisease                           1.000000\n",
      "GenHealth                              0.243182\n",
      "AgeCategory                            0.233432\n",
      "DiffWalking                            0.201258\n",
      "Stroke                                 0.196835\n",
      "Diabetic                               0.174782\n",
      "PhysicalHealth                         0.170721\n",
      "KidneyDisease                          0.145197\n",
      "Smoking                                0.107764\n",
      "PhysicalActivity                       0.100030\n",
      "SkinCancer                             0.093317\n",
      "Sex                                    0.070040\n",
      "BMI                                    0.053338\n",
      "Asthma                                 0.041444\n",
      "Race_White                             0.040121\n",
      "Race_Hispanic                          0.036163\n",
      "AlcoholDrinking                        0.032080\n",
      "Race_Asian                             0.030262\n",
      "MentalHealth                           0.028591\n",
      "Race_Black                             0.010156\n",
      "Race_American Indian/Alaskan Native    0.008547\n",
      "SleepTime                              0.008327\n",
      "Race_Other                             0.003039\n",
      "Name: HeartDisease, dtype: float64\n"
     ]
    }
   ],
   "source": [
    "df = pd.read_csv(\"../OLA-2/data/raw/heart_2020_cleaned_transformed.csv\")\n",
    "\n",
    "correlation = df.corr()\n",
    "corr_target = abs(correlation[\"HeartDisease\"])\n",
    "\n",
    "sorted_corr = corr_target.sort_values(ascending=False)\n",
    "print(sorted_corr[:25])"
   ]
  },
  {
   "cell_type": "markdown",
   "metadata": {},
   "source": [
    "Elbow curve"
   ]
  },
  {
   "cell_type": "code",
<<<<<<< HEAD
   "execution_count": 3,
=======
   "execution_count": 37,
>>>>>>> 8c470a05d615c14959e0823aca3eb2ef5844ee04
   "metadata": {
    "ExecuteTime": {
     "end_time": "2024-04-03T13:08:59.655686100Z",
     "start_time": "2024-04-03T13:08:45.030179500Z"
    }
   },
   "outputs": [
    {
     "name": "stderr",
     "output_type": "stream",
     "text": [
      "C:\\Users\\markl\\AppData\\Local\\Temp\\ipykernel_48028\\612560791.py:7: SettingWithCopyWarning: \n",
      "A value is trying to be set on a copy of a slice from a DataFrame\n",
      "\n",
      "See the caveats in the documentation: https://pandas.pydata.org/pandas-docs/stable/user_guide/indexing.html#returning-a-view-versus-a-copy\n",
      "  features.dropna(inplace=True)\n",
      "c:\\Users\\markl\\anaconda3\\envs\\ml\\Lib\\site-packages\\sklearn\\cluster\\_kmeans.py:1412: FutureWarning: The default value of `n_init` will change from 10 to 'auto' in 1.4. Set the value of `n_init` explicitly to suppress the warning\n",
      "  super()._check_params_vs_input(X, default_n_init=10)\n",
      "c:\\Users\\markl\\anaconda3\\envs\\ml\\Lib\\site-packages\\sklearn\\cluster\\_kmeans.py:1412: FutureWarning: The default value of `n_init` will change from 10 to 'auto' in 1.4. Set the value of `n_init` explicitly to suppress the warning\n",
      "  super()._check_params_vs_input(X, default_n_init=10)\n",
      "c:\\Users\\markl\\anaconda3\\envs\\ml\\Lib\\site-packages\\sklearn\\cluster\\_kmeans.py:1412: FutureWarning: The default value of `n_init` will change from 10 to 'auto' in 1.4. Set the value of `n_init` explicitly to suppress the warning\n",
      "  super()._check_params_vs_input(X, default_n_init=10)\n",
      "c:\\Users\\markl\\anaconda3\\envs\\ml\\Lib\\site-packages\\sklearn\\cluster\\_kmeans.py:1412: FutureWarning: The default value of `n_init` will change from 10 to 'auto' in 1.4. Set the value of `n_init` explicitly to suppress the warning\n",
      "  super()._check_params_vs_input(X, default_n_init=10)\n",
      "c:\\Users\\markl\\anaconda3\\envs\\ml\\Lib\\site-packages\\sklearn\\cluster\\_kmeans.py:1412: FutureWarning: The default value of `n_init` will change from 10 to 'auto' in 1.4. Set the value of `n_init` explicitly to suppress the warning\n",
      "  super()._check_params_vs_input(X, default_n_init=10)\n",
      "c:\\Users\\markl\\anaconda3\\envs\\ml\\Lib\\site-packages\\sklearn\\cluster\\_kmeans.py:1412: FutureWarning: The default value of `n_init` will change from 10 to 'auto' in 1.4. Set the value of `n_init` explicitly to suppress the warning\n",
      "  super()._check_params_vs_input(X, default_n_init=10)\n",
      "c:\\Users\\markl\\anaconda3\\envs\\ml\\Lib\\site-packages\\sklearn\\cluster\\_kmeans.py:1412: FutureWarning: The default value of `n_init` will change from 10 to 'auto' in 1.4. Set the value of `n_init` explicitly to suppress the warning\n",
      "  super()._check_params_vs_input(X, default_n_init=10)\n",
      "c:\\Users\\markl\\anaconda3\\envs\\ml\\Lib\\site-packages\\sklearn\\cluster\\_kmeans.py:1412: FutureWarning: The default value of `n_init` will change from 10 to 'auto' in 1.4. Set the value of `n_init` explicitly to suppress the warning\n",
      "  super()._check_params_vs_input(X, default_n_init=10)\n"
     ]
    },
    {
     "data": {
      "image/png": "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",
      "text/plain": [
       "<Figure size 640x480 with 1 Axes>"
      ]
     },
     "metadata": {},
     "output_type": "display_data"
    }
   ],
   "source": [
    "# The most relevant features aer: GenHealth, AgeCategory, DiffWalking, Stroke, Diabetic, PhysicalHealth\n",
    "features = df[\n",
    "    [\"GenHealth\", \"AgeCategory\", \"DiffWalking\", \"Stroke\", \"Diabetic\", \"PhysicalHealth\"]\n",
    "]\n",
    "\n",
    "# Handle missing values \n",
    "features.dropna(inplace=True)\n",
    "\n",
    "# Standardize the features\n",
    "scaler = StandardScaler()\n",
    "features_scaled = scaler.fit_transform(features)\n",
    "\n",
    "# Elbow Method\n",
    "distortions = []\n",
    "for k in range(2, 10):\n",
    "    kmeans = KMeans(n_clusters=k, random_state=42)\n",
    "    kmeans.fit(features_scaled)\n",
    "    distortions.append(kmeans.inertia_)\n",
    "\n",
    "plt.plot(range(2, 10), distortions, marker=\"o\")\n",
    "plt.xlabel(\"Number of clusters\")\n",
    "plt.ylabel(\"Distortion\")\n",
    "plt.show()"
   ]
  },
  {
   "cell_type": "markdown",
   "metadata": {},
   "source": [
    "Silhouette score example - we tried using silhouette for finding the best amount of clusters, but it took way too long for it to run - there is more detailed explanation later in the notebook."
   ]
  },
  {
   "cell_type": "code",
<<<<<<< HEAD
   "execution_count": 4,
=======
   "execution_count": 38,
>>>>>>> 8c470a05d615c14959e0823aca3eb2ef5844ee04
   "metadata": {
    "ExecuteTime": {
     "end_time": "2024-04-03T13:08:59.661776500Z",
     "start_time": "2024-04-03T13:08:59.657685900Z"
    }
   },
   "outputs": [],
   "source": [
    "# Silhouette Score\n",
    "# k = 6  # Choose the number of clusters based on the elbow diagram\n",
    "# kmeans = KMeans(n_clusters=k, random_state=42)\n",
    "# kmeans.fit(features_scaled)\n",
    "# labels = kmeans.labels_\n",
    "\n",
    "# score = silhouette_score(features_scaled, labels)\n",
    "# print(f\"Silhouette Score: {score}\")\n",
    "\n",
    "# # Silhouette Plot\n",
    "# from sklearn.metrics import silhouette_samples\n",
    "\n",
    "# silhouette_vals = silhouette_samples(features_scaled, labels)\n",
    "\n",
    "# y_ax_lower, y_ax_upper = 0, 0\n",
    "# yticks = []\n",
    "# for i, c in enumerate(sorted(set(labels))):\n",
    "#     c_silhouette_vals = silhouette_vals[labels == c]\n",
    "#     c_silhouette_vals.sort()\n",
    "#     y_ax_upper += len(c_silhouette_vals)\n",
    "#     color = plt.cm.nipy_spectral(float(i) / len(set(labels)))\n",
    "#     plt.barh(\n",
    "#         range(y_ax_lower, y_ax_upper),\n",
    "#         c_silhouette_vals,\n",
    "#         height=1.0,\n",
    "#         edgecolor=\"none\",\n",
    "#         color=color,\n",
    "#     )\n",
    "#     yticks.append((y_ax_lower + y_ax_upper) / 2.0)\n",
    "#     y_ax_lower += len(c_silhouette_vals)\n",
    "\n",
    "# silhouette_avg = np.mean(silhouette_vals)\n",
    "# plt.axvline(silhouette_avg, color=\"red\", linestyle=\"--\")\n",
    "\n",
    "# plt.yticks(yticks, [str(c) for c in sorted(set(labels))])\n",
    "# plt.ylabel(\"Cluster\")\n",
    "# plt.xlabel(\"Silhouette score\")\n",
    "# plt.show()\n",
    "\n",
    "# num_clusters = 6\n",
    "\n",
    "# # Apply KMeans\n",
    "# kmeans = KMeans(n_clusters=num_clusters, random_state=42)\n",
    "# kmeans.fit(features_scaled)\n",
    "\n",
    "# # Get the cluster labels for each data point\n",
    "# labels = kmeans.labels_\n",
    "\n",
    "# # Add the labels to the original DataFrame\n",
    "# df['cluster'] = labels\n",
    "\n",
    "# # Print the first few rows of the DataFrame to see the cluster labels\n",
    "# print(df.head())\n",
    "\n",
    "# # Visualizing the clusters is a bit tricky when you have more than two features.\n",
    "# # One common approach is to use a pairplot, which shows scatter plots for each pair of features.\n",
    "# # However, this requires all features to be numerical. If you have categorical features,\n",
    "# # you'll need to handle them appropriately (e.g., by using one-hot encoding).\n",
    "# # Here's an example of how you might create a pairplot using seaborn:\n",
    "\n",
    "# import seaborn as sns\n",
    "# sns.pairplot(df[['GenHealth', 'AgeCategory', 'DiffWalking', 'Stroke', 'Diabetic', 'cluster']], hue='cluster')\n",
    "# plt.show()"
   ]
  },
  {
   "cell_type": "markdown",
   "metadata": {},
   "source": [
    "Kmeans"
   ]
  },
  {
   "cell_type": "code",
<<<<<<< HEAD
   "execution_count": 5,
=======
   "execution_count": 39,
>>>>>>> 8c470a05d615c14959e0823aca3eb2ef5844ee04
   "metadata": {
    "ExecuteTime": {
     "end_time": "2024-04-03T13:09:01.456272400Z",
     "start_time": "2024-04-03T13:08:59.662776800Z"
    }
   },
   "outputs": [
    {
     "name": "stderr",
     "output_type": "stream",
     "text": [
      "c:\\Users\\markl\\anaconda3\\envs\\ml\\Lib\\site-packages\\sklearn\\cluster\\_kmeans.py:1412: FutureWarning: The default value of `n_init` will change from 10 to 'auto' in 1.4. Set the value of `n_init` explicitly to suppress the warning\n",
      "  super()._check_params_vs_input(X, default_n_init=10)\n"
     ]
    },
    {
     "data": {
      "text/html": [
       "<div>\n",
       "<style scoped>\n",
       "    .dataframe tbody tr th:only-of-type {\n",
       "        vertical-align: middle;\n",
       "    }\n",
       "\n",
       "    .dataframe tbody tr th {\n",
       "        vertical-align: top;\n",
       "    }\n",
       "\n",
       "    .dataframe thead th {\n",
       "        text-align: right;\n",
       "    }\n",
       "</style>\n",
       "<table border=\"1\" class=\"dataframe\">\n",
       "  <thead>\n",
       "    <tr style=\"text-align: right;\">\n",
       "      <th></th>\n",
       "      <th>HeartDisease</th>\n",
       "      <th>BMI</th>\n",
       "      <th>Smoking</th>\n",
       "      <th>AlcoholDrinking</th>\n",
       "      <th>Stroke</th>\n",
       "      <th>PhysicalHealth</th>\n",
       "      <th>MentalHealth</th>\n",
       "      <th>DiffWalking</th>\n",
       "      <th>Sex</th>\n",
       "      <th>AgeCategory</th>\n",
       "      <th>...</th>\n",
       "      <th>Asthma</th>\n",
       "      <th>KidneyDisease</th>\n",
       "      <th>SkinCancer</th>\n",
       "      <th>Race_American Indian/Alaskan Native</th>\n",
       "      <th>Race_Asian</th>\n",
       "      <th>Race_Black</th>\n",
       "      <th>Race_Hispanic</th>\n",
       "      <th>Race_Other</th>\n",
       "      <th>Race_White</th>\n",
       "      <th>cluster</th>\n",
       "    </tr>\n",
       "  </thead>\n",
       "  <tbody>\n",
       "    <tr>\n",
       "      <th>0</th>\n",
       "      <td>0</td>\n",
       "      <td>0</td>\n",
       "      <td>1</td>\n",
       "      <td>0</td>\n",
       "      <td>0</td>\n",
       "      <td>3.0</td>\n",
       "      <td>30.0</td>\n",
       "      <td>0</td>\n",
       "      <td>0</td>\n",
       "      <td>7</td>\n",
       "      <td>...</td>\n",
       "      <td>1</td>\n",
       "      <td>0</td>\n",
       "      <td>1</td>\n",
       "      <td>False</td>\n",
       "      <td>False</td>\n",
       "      <td>False</td>\n",
       "      <td>False</td>\n",
       "      <td>False</td>\n",
       "      <td>True</td>\n",
       "      <td>2</td>\n",
       "    </tr>\n",
       "    <tr>\n",
       "      <th>1</th>\n",
       "      <td>0</td>\n",
       "      <td>1</td>\n",
       "      <td>0</td>\n",
       "      <td>0</td>\n",
       "      <td>1</td>\n",
       "      <td>0.0</td>\n",
       "      <td>0.0</td>\n",
       "      <td>0</td>\n",
       "      <td>0</td>\n",
       "      <td>12</td>\n",
       "      <td>...</td>\n",
       "      <td>0</td>\n",
       "      <td>0</td>\n",
       "      <td>0</td>\n",
       "      <td>False</td>\n",
       "      <td>False</td>\n",
       "      <td>False</td>\n",
       "      <td>False</td>\n",
       "      <td>False</td>\n",
       "      <td>True</td>\n",
       "      <td>4</td>\n",
       "    </tr>\n",
       "    <tr>\n",
       "      <th>2</th>\n",
       "      <td>0</td>\n",
       "      <td>2</td>\n",
       "      <td>1</td>\n",
       "      <td>0</td>\n",
       "      <td>0</td>\n",
       "      <td>20.0</td>\n",
       "      <td>30.0</td>\n",
       "      <td>0</td>\n",
       "      <td>1</td>\n",
       "      <td>9</td>\n",
       "      <td>...</td>\n",
       "      <td>1</td>\n",
       "      <td>0</td>\n",
       "      <td>0</td>\n",
       "      <td>False</td>\n",
       "      <td>False</td>\n",
       "      <td>False</td>\n",
       "      <td>False</td>\n",
       "      <td>False</td>\n",
       "      <td>True</td>\n",
       "      <td>2</td>\n",
       "    </tr>\n",
       "    <tr>\n",
       "      <th>3</th>\n",
       "      <td>0</td>\n",
       "      <td>1</td>\n",
       "      <td>0</td>\n",
       "      <td>0</td>\n",
       "      <td>0</td>\n",
       "      <td>0.0</td>\n",
       "      <td>0.0</td>\n",
       "      <td>0</td>\n",
       "      <td>0</td>\n",
       "      <td>11</td>\n",
       "      <td>...</td>\n",
       "      <td>0</td>\n",
       "      <td>0</td>\n",
       "      <td>1</td>\n",
       "      <td>False</td>\n",
       "      <td>False</td>\n",
       "      <td>False</td>\n",
       "      <td>False</td>\n",
       "      <td>False</td>\n",
       "      <td>True</td>\n",
       "      <td>1</td>\n",
       "    </tr>\n",
       "    <tr>\n",
       "      <th>4</th>\n",
       "      <td>0</td>\n",
       "      <td>1</td>\n",
       "      <td>0</td>\n",
       "      <td>0</td>\n",
       "      <td>0</td>\n",
       "      <td>28.0</td>\n",
       "      <td>0.0</td>\n",
       "      <td>1</td>\n",
       "      <td>0</td>\n",
       "      <td>4</td>\n",
       "      <td>...</td>\n",
       "      <td>0</td>\n",
       "      <td>0</td>\n",
       "      <td>0</td>\n",
       "      <td>False</td>\n",
       "      <td>False</td>\n",
       "      <td>False</td>\n",
       "      <td>False</td>\n",
       "      <td>False</td>\n",
       "      <td>True</td>\n",
       "      <td>3</td>\n",
       "    </tr>\n",
       "  </tbody>\n",
       "</table>\n",
       "<p>5 rows × 24 columns</p>\n",
       "</div>"
      ],
      "text/plain": [
       "   HeartDisease  BMI  Smoking  AlcoholDrinking  Stroke  PhysicalHealth  \\\n",
       "0             0    0        1                0       0             3.0   \n",
       "1             0    1        0                0       1             0.0   \n",
       "2             0    2        1                0       0            20.0   \n",
       "3             0    1        0                0       0             0.0   \n",
       "4             0    1        0                0       0            28.0   \n",
       "\n",
       "   MentalHealth  DiffWalking  Sex  AgeCategory  ...  Asthma  KidneyDisease  \\\n",
       "0          30.0            0    0            7  ...       1              0   \n",
       "1           0.0            0    0           12  ...       0              0   \n",
       "2          30.0            0    1            9  ...       1              0   \n",
       "3           0.0            0    0           11  ...       0              0   \n",
       "4           0.0            1    0            4  ...       0              0   \n",
       "\n",
       "   SkinCancer  Race_American Indian/Alaskan Native  Race_Asian  Race_Black  \\\n",
       "0           1                                False       False       False   \n",
       "1           0                                False       False       False   \n",
       "2           0                                False       False       False   \n",
       "3           1                                False       False       False   \n",
       "4           0                                False       False       False   \n",
       "\n",
       "   Race_Hispanic  Race_Other  Race_White  cluster  \n",
       "0          False       False        True        2  \n",
       "1          False       False        True        4  \n",
       "2          False       False        True        2  \n",
       "3          False       False        True        1  \n",
       "4          False       False        True        3  \n",
       "\n",
       "[5 rows x 24 columns]"
      ]
     },
<<<<<<< HEAD
     "execution_count": 5,
=======
     "execution_count": 39,
>>>>>>> 8c470a05d615c14959e0823aca3eb2ef5844ee04
     "metadata": {},
     "output_type": "execute_result"
    }
   ],
   "source": [
    "from sklearn.cluster import KMeans\n",
    "\n",
    "# Choose the number of clusters\n",
    "num_clusters = 6\n",
    "\n",
    "# Apply KMeans\n",
    "kmeans = KMeans(n_clusters=num_clusters, random_state=42)\n",
    "kmeans.fit(features_scaled)\n",
    "\n",
    "# Get the cluster labels for each data point\n",
    "labels = kmeans.labels_\n",
    "\n",
    "# Add the labels to the original DataFrame\n",
    "df[\"cluster\"] = labels\n",
    "\n",
    "# Print the first few rows of the DataFrame to see the cluster labels\n",
    "df.head()"
   ]
  },
  {
   "cell_type": "markdown",
   "metadata": {},
   "source": [
    "DBSCAN - same the the silhouette we have a more detailed explanation later"
   ]
  },
  {
   "cell_type": "code",
<<<<<<< HEAD
   "execution_count": 6,
=======
   "execution_count": 40,
>>>>>>> 8c470a05d615c14959e0823aca3eb2ef5844ee04
   "metadata": {
    "ExecuteTime": {
     "end_time": "2024-04-03T13:09:01.457274100Z",
     "start_time": "2024-04-03T13:09:01.448239400Z"
    }
   },
   "outputs": [],
   "source": [
    "### too computational intensive\n",
    "# from sklearn.cluster import DBSCAN\n",
    "\n",
    "# # Apply DBSCAN\n",
    "# # eps is the maximum distance between two samples for them to be considered as in the same neighborhood\n",
    "# # min_samples is the minimum number of samples in a neighborhood for a point to be considered as a core point\n",
    "# dbscan = DBSCAN(eps=0.5, min_samples=5)\n",
    "# dbscan.fit(features_scaled)\n",
    "\n",
    "# # Get the cluster labels for each data point\n",
    "# labels = dbscan.labels_\n",
    "\n",
    "# # Add the labels to the original DataFrame\n",
    "# df[\"cluster\"] = labels\n",
    "\n",
    "# # Print the first few rows of the DataFrame to see the cluster labels\n",
    "# print(df.head())"
   ]
  },
  {
   "cell_type": "markdown",
   "metadata": {},
   "source": [
    "We tried to use the results from the KMeans in order model from our previous assignment"
   ]
  },
  {
   "cell_type": "code",
<<<<<<< HEAD
   "execution_count": 7,
=======
   "execution_count": 41,
>>>>>>> 8c470a05d615c14959e0823aca3eb2ef5844ee04
   "metadata": {
    "ExecuteTime": {
     "end_time": "2024-04-03T13:09:02.959493600Z",
     "start_time": "2024-04-03T13:09:01.452266500Z"
    }
   },
   "outputs": [
    {
     "name": "stdout",
     "output_type": "stream",
     "text": [
      "Cluster 0:\n",
      "GenHealth         2.946802\n",
      "AgeCategory       2.464568\n",
      "DiffWalking       0.000481\n",
      "Stroke            0.000000\n",
      "Diabetic          0.000000\n",
      "PhysicalHealth    1.024596\n",
      "dtype: float64\n",
      "Cluster 1:\n",
      "GenHealth         2.85770\n",
      "AgeCategory       8.68045\n",
      "DiffWalking       0.00000\n",
      "Stroke            0.00000\n",
      "Diabetic          0.00000\n",
      "PhysicalHealth    0.88117\n",
      "dtype: float64\n",
      "Cluster 2:\n",
      "GenHealth         2.268961\n",
      "AgeCategory       7.908558\n",
      "DiffWalking       0.000000\n",
      "Stroke            0.000000\n",
      "Diabetic          1.000000\n",
      "PhysicalHealth    1.580347\n",
      "dtype: float64\n",
      "Cluster 3:\n",
      "GenHealth          1.086810\n",
      "AgeCategory        7.733262\n",
      "DiffWalking        0.584033\n",
      "Stroke             0.000000\n",
      "Diabetic           0.266960\n",
      "PhysicalHealth    27.924119\n",
      "dtype: float64\n",
      "Cluster 4:\n",
      "GenHealth         1.709835\n",
      "AgeCategory       8.995360\n",
      "DiffWalking       0.442953\n",
      "Stroke            1.000000\n",
      "Diabetic          0.316182\n",
      "PhysicalHealth    8.872483\n",
      "dtype: float64\n",
      "Cluster 5:\n",
      "GenHealth         1.915336\n",
      "AgeCategory       8.849074\n",
      "DiffWalking       1.000000\n",
      "Stroke            0.000000\n",
      "Diabetic          0.287741\n",
      "PhysicalHealth    3.117524\n",
      "dtype: float64\n",
      "Accuracy: 0.9135383605122032\n"
     ]
    },
    {
     "name": "stderr",
     "output_type": "stream",
     "text": [
      "c:\\Users\\markl\\anaconda3\\envs\\ml\\Lib\\site-packages\\sklearn\\linear_model\\_logistic.py:460: ConvergenceWarning: lbfgs failed to converge (status=1):\n",
      "STOP: TOTAL NO. of ITERATIONS REACHED LIMIT.\n",
      "\n",
      "Increase the number of iterations (max_iter) or scale the data as shown in:\n",
      "    https://scikit-learn.org/stable/modules/preprocessing.html\n",
      "Please also refer to the documentation for alternative solver options:\n",
      "    https://scikit-learn.org/stable/modules/linear_model.html#logistic-regression\n",
      "  n_iter_i = _check_optimize_result(\n"
     ]
    }
   ],
   "source": [
    "# Calculate average value of each feature for each cluster\n",
    "for cluster in set(labels):\n",
    "    cluster_data = features[labels == cluster]\n",
    "    print(f\"Cluster {cluster}:\")\n",
    "    print(cluster_data.mean())\n",
    "\n",
    "from sklearn.linear_model import LogisticRegression\n",
    "from sklearn.model_selection import train_test_split\n",
    "from sklearn.metrics import accuracy_score\n",
    "\n",
    "# Add cluster labels as a new feature\n",
    "df[\"cluster\"] = labels\n",
    "\n",
    "# Split the data into training and test sets\n",
    "X_train, X_test, y_train, y_test = train_test_split(\n",
    "    df.drop(\"HeartDisease\", axis=1), df[\"HeartDisease\"], test_size=0.2, random_state=42\n",
    ")\n",
    "\n",
    "# Train a logistic regression model\n",
    "model = LogisticRegression()\n",
    "model.fit(X_train, y_train)\n",
    "\n",
    "# Make predictions on the test set\n",
    "y_pred = model.predict(X_test)\n",
    "\n",
    "# Evaluate the model\n",
    "accuracy = accuracy_score(y_test, y_pred)\n",
    "print(f\"Accuracy: {accuracy}\")"
   ]
  },
  {
   "cell_type": "markdown",
   "metadata": {},
   "source": [
<<<<<<< HEAD
    "Visualizing the clusters"
   ]
  },
  {
   "cell_type": "markdown",
   "metadata": {},
   "source": [
=======
>>>>>>> 8c470a05d615c14959e0823aca3eb2ef5844ee04
    "\n",
    "### We didn't use the silhouette score and DBSCAN as well, below are some of the explanations of why we didn't use them. "
   ]
  },
  {
   "cell_type": "markdown",
   "metadata": {},
   "source": [
    "Computational Cost: The Silhouette Score is computationally expensive, especially for large datasets. Our project's dataset is sizable, and calculating the Silhouette Score for various values of k was time-consuming and resource-intensive.\n",
    "\n",
    "Potential Misleading Results in Certain Cases: In scenarios where clusters have varying densities or non-globular shapes, the Silhouette Score might not provide a clear indication of the best number of clusters. For heart disease data, which could have complex and overlapping patterns, the score might not reflect the true clustering tendency.\n",
    "\n",
    "Sensitivity to Noise and Outliers: DBSCAN is a clustering algorithm designed to handle noise and outliers effectively by identifying them as separate from core clusters. The Silhouette Score, however, does not distinguish between noise/outliers and legitimate data points, potentially leading to misleading evaluations of cluster quality.\n",
    "\n",
    "Elbow Method as a Simpler Alternative: The Elbow Method is a simpler and more computationally efficient approach. Although it might be less precise than the Silhouette Score, it can provide a good-enough estimate for the optimal number of clusters, which can be sufficient for many practical applications, including preliminary explorations in healthcare data.\n"
   ]
  },
  {
   "cell_type": "code",
   "execution_count": null,
   "metadata": {
    "collapsed": false,
<<<<<<< HEAD
    "is_executing": true
   },
   "outputs": [],
   "source": []
=======
    "ExecuteTime": {
     "end_time": "2024-04-03T13:09:02.961000500Z",
     "start_time": "2024-04-03T13:09:02.955981400Z"
    }
   },
   "execution_count": 41
>>>>>>> 8c470a05d615c14959e0823aca3eb2ef5844ee04
  }
 ],
 "metadata": {
  "kernelspec": {
   "display_name": "Python 3",
   "language": "python",
   "name": "python3"
  },
  "language_info": {
   "codemirror_mode": {
    "name": "ipython",
    "version": 3
   },
   "file_extension": ".py",
   "mimetype": "text/x-python",
   "name": "python",
   "nbconvert_exporter": "python",
   "pygments_lexer": "ipython3",
   "version": "3.12.2"
  }
 },
 "nbformat": 4,
 "nbformat_minor": 2
}
