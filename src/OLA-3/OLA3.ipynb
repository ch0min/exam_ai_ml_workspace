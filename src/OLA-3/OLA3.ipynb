{
 "cells": [
  {
   "cell_type": "markdown",
   "metadata": {},
   "source": [
    "# OLA 3"
   ]
  },
  {
   "cell_type": "code",
   "execution_count": 9,
   "metadata": {
    "ExecuteTime": {
     "end_time": "2024-04-03T12:59:12.143562300Z",
     "start_time": "2024-04-03T12:59:12.116507400Z"
    }
   },
   "outputs": [],
   "source": [
    "import pandas as pd\n",
    "import matplotlib.pyplot as plt\n",
    "import numpy as np\n",
    "import seaborn as sns\n",
    "from sklearn.cluster import KMeans\n",
    "from sklearn.preprocessing import StandardScaler\n",
    "from sklearn.metrics import silhouette_score"
   ]
  },
  {
   "cell_type": "markdown",
   "metadata": {},
   "source": [
    "Finding the most relevant features"
   ]
  },
  {
   "cell_type": "code",
   "execution_count": 10,
   "metadata": {
    "ExecuteTime": {
     "end_time": "2024-04-03T12:59:12.629557700Z",
     "start_time": "2024-04-03T12:59:12.147565400Z"
    }
   },
   "outputs": [
    {
     "name": "stdout",
     "output_type": "stream",
     "text": [
      "HeartDisease                           1.000000\n",
      "GenHealth                              0.243182\n",
      "AgeCategory                            0.233432\n",
      "DiffWalking                            0.201258\n",
      "Stroke                                 0.196835\n",
      "Diabetic                               0.174782\n",
      "PhysicalHealth                         0.170721\n",
      "KidneyDisease                          0.145197\n",
      "Smoking                                0.107764\n",
      "PhysicalActivity                       0.100030\n",
      "SkinCancer                             0.093317\n",
      "Sex                                    0.070040\n",
      "BMI                                    0.053338\n",
      "Asthma                                 0.041444\n",
      "Race_White                             0.040121\n",
      "Race_Hispanic                          0.036163\n",
      "AlcoholDrinking                        0.032080\n",
      "Race_Asian                             0.030262\n",
      "MentalHealth                           0.028591\n",
      "Race_Black                             0.010156\n",
      "Race_American Indian/Alaskan Native    0.008547\n",
      "SleepTime                              0.008327\n",
      "Race_Other                             0.003039\n",
      "Name: HeartDisease, dtype: float64\n"
     ]
    }
   ],
   "source": [
    "df = pd.read_csv(\"../OLA-2/data/raw/heart_2020_cleaned_transformed.csv\")\n",
    "\n",
    "correlation = df.corr()\n",
    "corr_target = abs(correlation[\"HeartDisease\"])\n",
    "\n",
    "sorted_corr = corr_target.sort_values(ascending=False)\n",
    "print(sorted_corr[:25])"
   ]
  },
  {
   "cell_type": "markdown",
   "metadata": {},
   "source": [
    "Elbow curve"
   ]
  },
  {
   "cell_type": "code",
   "execution_count": 11,
   "metadata": {
    "ExecuteTime": {
     "end_time": "2024-04-03T12:59:27.270626Z",
     "start_time": "2024-04-03T12:59:12.632074Z"
    }
   },
   "outputs": [
    {
     "name": "stderr",
     "output_type": "stream",
     "text": [
      "C:\\Users\\chris\\AppData\\Local\\Temp\\ipykernel_3764\\152279827.py:7: SettingWithCopyWarning: \n",
      "A value is trying to be set on a copy of a slice from a DataFrame\n",
      "\n",
      "See the caveats in the documentation: https://pandas.pydata.org/pandas-docs/stable/user_guide/indexing.html#returning-a-view-versus-a-copy\n",
      "  features.dropna(inplace=True)\n",
      "C:\\Users\\chris\\anaconda3\\Lib\\site-packages\\sklearn\\cluster\\_kmeans.py:1412: FutureWarning: The default value of `n_init` will change from 10 to 'auto' in 1.4. Set the value of `n_init` explicitly to suppress the warning\n",
      "  super()._check_params_vs_input(X, default_n_init=10)\n",
      "C:\\Users\\chris\\anaconda3\\Lib\\site-packages\\sklearn\\cluster\\_kmeans.py:1412: FutureWarning: The default value of `n_init` will change from 10 to 'auto' in 1.4. Set the value of `n_init` explicitly to suppress the warning\n",
      "  super()._check_params_vs_input(X, default_n_init=10)\n",
      "C:\\Users\\chris\\anaconda3\\Lib\\site-packages\\sklearn\\cluster\\_kmeans.py:1412: FutureWarning: The default value of `n_init` will change from 10 to 'auto' in 1.4. Set the value of `n_init` explicitly to suppress the warning\n",
      "  super()._check_params_vs_input(X, default_n_init=10)\n",
      "C:\\Users\\chris\\anaconda3\\Lib\\site-packages\\sklearn\\cluster\\_kmeans.py:1412: FutureWarning: The default value of `n_init` will change from 10 to 'auto' in 1.4. Set the value of `n_init` explicitly to suppress the warning\n",
      "  super()._check_params_vs_input(X, default_n_init=10)\n",
      "C:\\Users\\chris\\anaconda3\\Lib\\site-packages\\sklearn\\cluster\\_kmeans.py:1412: FutureWarning: The default value of `n_init` will change from 10 to 'auto' in 1.4. Set the value of `n_init` explicitly to suppress the warning\n",
      "  super()._check_params_vs_input(X, default_n_init=10)\n",
      "C:\\Users\\chris\\anaconda3\\Lib\\site-packages\\sklearn\\cluster\\_kmeans.py:1412: FutureWarning: The default value of `n_init` will change from 10 to 'auto' in 1.4. Set the value of `n_init` explicitly to suppress the warning\n",
      "  super()._check_params_vs_input(X, default_n_init=10)\n",
      "C:\\Users\\chris\\anaconda3\\Lib\\site-packages\\sklearn\\cluster\\_kmeans.py:1412: FutureWarning: The default value of `n_init` will change from 10 to 'auto' in 1.4. Set the value of `n_init` explicitly to suppress the warning\n",
      "  super()._check_params_vs_input(X, default_n_init=10)\n",
      "C:\\Users\\chris\\anaconda3\\Lib\\site-packages\\sklearn\\cluster\\_kmeans.py:1412: FutureWarning: The default value of `n_init` will change from 10 to 'auto' in 1.4. Set the value of `n_init` explicitly to suppress the warning\n",
      "  super()._check_params_vs_input(X, default_n_init=10)\n"
     ]
    },
    {
     "data": {
      "text/plain": "<Figure size 640x480 with 1 Axes>",
      "image/png": "[encoded data removed]"
     },
     "metadata": {},
     "output_type": "display_data"
    }
   ],
   "source": [
    "# The most relevant features aer: GenHealth, AgeCategory, DiffWalking, Stroke, Diabetic, PhysicalHealth\n",
    "features = df[\n",
    "    [\"GenHealth\", \"AgeCategory\", \"DiffWalking\", \"Stroke\", \"Diabetic\", \"PhysicalHealth\"]\n",
    "]\n",
    "\n",
    "# Handle missing values \n",
    "features.dropna(inplace=True)\n",
    "\n",
    "# Standardize the features\n",
    "scaler = StandardScaler()\n",
    "features_scaled = scaler.fit_transform(features)\n",
    "\n",
    "# Elbow Method\n",
    "distortions = []\n",
    "for k in range(2, 10):\n",
    "    kmeans = KMeans(n_clusters=k, random_state=42)\n",
    "    kmeans.fit(features_scaled)\n",
    "    distortions.append(kmeans.inertia_)\n",
    "\n",
    "plt.plot(range(2, 10), distortions, marker=\"o\")\n",
    "plt.xlabel(\"Number of clusters\")\n",
    "plt.ylabel(\"Distortion\")\n",
    "plt.show()"
   ]
  },
  {
   "cell_type": "markdown",
   "metadata": {},
   "source": [
    "Silhouette score example - we tried using silhouette for finding the best amount of clusters, but it took way too long for it to run - there is more detailed explanation later in the notebook."
   ]
  },
  {
   "cell_type": "code",
   "execution_count": 12,
   "metadata": {
    "ExecuteTime": {
     "end_time": "2024-04-03T12:59:27.270626Z",
     "start_time": "2024-04-03T12:59:27.268602300Z"
    }
   },
   "outputs": [],
   "source": [
    "# Silhouette Score\n",
    "# k = 6  # Choose the number of clusters based on the elbow diagram\n",
    "# kmeans = KMeans(n_clusters=k, random_state=42)\n",
    "# kmeans.fit(features_scaled)\n",
    "# labels = kmeans.labels_\n",
    "\n",
    "# score = silhouette_score(features_scaled, labels)\n",
    "# print(f\"Silhouette Score: {score}\")\n",
    "\n",
    "# # Silhouette Plot\n",
    "# from sklearn.metrics import silhouette_samples\n",
    "\n",
    "# silhouette_vals = silhouette_samples(features_scaled, labels)\n",
    "\n",
    "# y_ax_lower, y_ax_upper = 0, 0\n",
    "# yticks = []\n",
    "# for i, c in enumerate(sorted(set(labels))):\n",
    "#     c_silhouette_vals = silhouette_vals[labels == c]\n",
    "#     c_silhouette_vals.sort()\n",
    "#     y_ax_upper += len(c_silhouette_vals)\n",
    "#     color = plt.cm.nipy_spectral(float(i) / len(set(labels)))\n",
    "#     plt.barh(\n",
    "#         range(y_ax_lower, y_ax_upper),\n",
    "#         c_silhouette_vals,\n",
    "#         height=1.0,\n",
    "#         edgecolor=\"none\",\n",
    "#         color=color,\n",
    "#     )\n",
    "#     yticks.append((y_ax_lower + y_ax_upper) / 2.0)\n",
    "#     y_ax_lower += len(c_silhouette_vals)\n",
    "\n",
    "# silhouette_avg = np.mean(silhouette_vals)\n",
    "# plt.axvline(silhouette_avg, color=\"red\", linestyle=\"--\")\n",
    "\n",
    "# plt.yticks(yticks, [str(c) for c in sorted(set(labels))])\n",
    "# plt.ylabel(\"Cluster\")\n",
    "# plt.xlabel(\"Silhouette score\")\n",
    "# plt.show()\n",
    "\n",
    "# num_clusters = 6\n",
    "\n",
    "# # Apply KMeans\n",
    "# kmeans = KMeans(n_clusters=num_clusters, random_state=42)\n",
    "# kmeans.fit(features_scaled)\n",
    "\n",
    "# # Get the cluster labels for each data point\n",
    "# labels = kmeans.labels_\n",
    "\n",
    "# # Add the labels to the original DataFrame\n",
    "# df['cluster'] = labels\n",
    "\n",
    "# # Print the first few rows of the DataFrame to see the cluster labels\n",
    "# print(df.head())\n",
    "\n",
    "# # Visualizing the clusters is a bit tricky when you have more than two features.\n",
    "# # One common approach is to use a pairplot, which shows scatter plots for each pair of features.\n",
    "# # However, this requires all features to be numerical. If you have categorical features,\n",
    "# # you'll need to handle them appropriately (e.g., by using one-hot encoding).\n",
    "# # Here's an example of how you might create a pairplot using seaborn:\n",
    "\n",
    "# import seaborn as sns\n",
    "# sns.pairplot(df[['GenHealth', 'AgeCategory', 'DiffWalking', 'Stroke', 'Diabetic', 'cluster']], hue='cluster')\n",
    "# plt.show()"
   ]
  },
  {
   "cell_type": "markdown",
   "metadata": {},
   "source": [
    "Kmeans"
   ]
  },
  {
   "cell_type": "code",
   "execution_count": 13,
   "metadata": {
    "ExecuteTime": {
     "end_time": "2024-04-03T12:59:29.078082200Z",
     "start_time": "2024-04-03T12:59:27.271633700Z"
    }
   },
   "outputs": [
    {
     "name": "stderr",
     "output_type": "stream",
     "text": [
      "C:\\Users\\chris\\anaconda3\\Lib\\site-packages\\sklearn\\cluster\\_kmeans.py:1412: FutureWarning: The default value of `n_init` will change from 10 to 'auto' in 1.4. Set the value of `n_init` explicitly to suppress the warning\n",
      "  super()._check_params_vs_input(X, default_n_init=10)\n"
     ]
    },
    {
     "data": {
      "text/plain": "   HeartDisease  BMI  Smoking  AlcoholDrinking  Stroke  PhysicalHealth  \\\n0             0    0        1                0       0             3.0   \n1             0    1        0                0       1             0.0   \n2             0    2        1                0       0            20.0   \n3             0    1        0                0       0             0.0   \n4             0    1        0                0       0            28.0   \n\n   MentalHealth  DiffWalking  Sex  AgeCategory  ...  Asthma  KidneyDisease  \\\n0          30.0            0    0            7  ...       1              0   \n1           0.0            0    0           12  ...       0              0   \n2          30.0            0    1            9  ...       1              0   \n3           0.0            0    0           11  ...       0              0   \n4           0.0            1    0            4  ...       0              0   \n\n   SkinCancer  Race_American Indian/Alaskan Native  Race_Asian  Race_Black  \\\n0           1                                False       False       False   \n1           0                                False       False       False   \n2           0                                False       False       False   \n3           1                                False       False       False   \n4           0                                False       False       False   \n\n   Race_Hispanic  Race_Other  Race_White  cluster  \n0          False       False        True        2  \n1          False       False        True        4  \n2          False       False        True        2  \n3          False       False        True        1  \n4          False       False        True        3  \n\n[5 rows x 24 columns]",
      "text/html": "<div>\n<style scoped>\n    .dataframe tbody tr th:only-of-type {\n        vertical-align: middle;\n    }\n\n    .dataframe tbody tr th {\n        vertical-align: top;\n    }\n\n    .dataframe thead th {\n        text-align: right;\n    }\n</style>\n<table border=\"1\" class=\"dataframe\">\n  <thead>\n    <tr style=\"text-align: right;\">\n      <th></th>\n      <th>HeartDisease</th>\n      <th>BMI</th>\n      <th>Smoking</th>\n      <th>AlcoholDrinking</th>\n      <th>Stroke</th>\n      <th>PhysicalHealth</th>\n      <th>MentalHealth</th>\n      <th>DiffWalking</th>\n      <th>Sex</th>\n      <th>AgeCategory</th>\n      <th>...</th>\n      <th>Asthma</th>\n      <th>KidneyDisease</th>\n      <th>SkinCancer</th>\n      <th>Race_American Indian/Alaskan Native</th>\n      <th>Race_Asian</th>\n      <th>Race_Black</th>\n      <th>Race_Hispanic</th>\n      <th>Race_Other</th>\n      <th>Race_White</th>\n      <th>cluster</th>\n    </tr>\n  </thead>\n  <tbody>\n    <tr>\n      <th>0</th>\n      <td>0</td>\n      <td>0</td>\n      <td>1</td>\n      <td>0</td>\n      <td>0</td>\n      <td>3.0</td>\n      <td>30.0</td>\n      <td>0</td>\n      <td>0</td>\n      <td>7</td>\n      <td>...</td>\n      <td>1</td>\n      <td>0</td>\n      <td>1</td>\n      <td>False</td>\n      <td>False</td>\n      <td>False</td>\n      <td>False</td>\n      <td>False</td>\n      <td>True</td>\n      <td>2</td>\n    </tr>\n    <tr>\n      <th>1</th>\n      <td>0</td>\n      <td>1</td>\n      <td>0</td>\n      <td>0</td>\n      <td>1</td>\n      <td>0.0</td>\n      <td>0.0</td>\n      <td>0</td>\n      <td>0</td>\n      <td>12</td>\n      <td>...</td>\n      <td>0</td>\n      <td>0</td>\n      <td>0</td>\n      <td>False</td>\n      <td>False</td>\n      <td>False</td>\n      <td>False</td>\n      <td>False</td>\n      <td>True</td>\n      <td>4</td>\n    </tr>\n    <tr>\n      <th>2</th>\n      <td>0</td>\n      <td>2</td>\n      <td>1</td>\n      <td>0</td>\n      <td>0</td>\n      <td>20.0</td>\n      <td>30.0</td>\n      <td>0</td>\n      <td>1</td>\n      <td>9</td>\n      <td>...</td>\n      <td>1</td>\n      <td>0</td>\n      <td>0</td>\n      <td>False</td>\n      <td>False</td>\n      <td>False</td>\n      <td>False</td>\n      <td>False</td>\n      <td>True</td>\n      <td>2</td>\n    </tr>\n    <tr>\n      <th>3</th>\n      <td>0</td>\n      <td>1</td>\n      <td>0</td>\n      <td>0</td>\n      <td>0</td>\n      <td>0.0</td>\n      <td>0.0</td>\n      <td>0</td>\n      <td>0</td>\n      <td>11</td>\n      <td>...</td>\n      <td>0</td>\n      <td>0</td>\n      <td>1</td>\n      <td>False</td>\n      <td>False</td>\n      <td>False</td>\n      <td>False</td>\n      <td>False</td>\n      <td>True</td>\n      <td>1</td>\n    </tr>\n    <tr>\n      <th>4</th>\n      <td>0</td>\n      <td>1</td>\n      <td>0</td>\n      <td>0</td>\n      <td>0</td>\n      <td>28.0</td>\n      <td>0.0</td>\n      <td>1</td>\n      <td>0</td>\n      <td>4</td>\n      <td>...</td>\n      <td>0</td>\n      <td>0</td>\n      <td>0</td>\n      <td>False</td>\n      <td>False</td>\n      <td>False</td>\n      <td>False</td>\n      <td>False</td>\n      <td>True</td>\n      <td>3</td>\n    </tr>\n  </tbody>\n</table>\n<p>5 rows × 24 columns</p>\n</div>"
     },
     "execution_count": 13,
     "metadata": {},
     "output_type": "execute_result"
    }
   ],
   "source": [
    "from sklearn.cluster import KMeans\n",
    "\n",
    "# Choose the number of clusters\n",
    "num_clusters = 6\n",
    "\n",
    "# Apply KMeans\n",
    "kmeans = KMeans(n_clusters=num_clusters, random_state=42)\n",
    "kmeans.fit(features_scaled)\n",
    "\n",
    "# Get the cluster labels for each data point\n",
    "labels = kmeans.labels_\n",
    "\n",
    "# Add the labels to the original DataFrame\n",
    "df[\"cluster\"] = labels\n",
    "\n",
    "# Print the first few rows of the DataFrame to see the cluster labels\n",
    "df.head()"
   ]
  },
  {
   "cell_type": "markdown",
   "metadata": {},
   "source": [
    "DBSCAN - same the the silhouette we have a more detailed explanation later"
   ]
  },
  {
   "cell_type": "code",
   "execution_count": 14,
   "metadata": {
    "ExecuteTime": {
     "end_time": "2024-04-03T12:59:29.078082200Z",
     "start_time": "2024-04-03T12:59:29.073522500Z"
    }
   },
   "outputs": [],
   "source": [
    "### too computational intensive\n",
    "# from sklearn.cluster import DBSCAN\n",
    "\n",
    "# # Apply DBSCAN\n",
    "# # eps is the maximum distance between two samples for them to be considered as in the same neighborhood\n",
    "# # min_samples is the minimum number of samples in a neighborhood for a point to be considered as a core point\n",
    "# dbscan = DBSCAN(eps=0.5, min_samples=5)\n",
    "# dbscan.fit(features_scaled)\n",
    "\n",
    "# # Get the cluster labels for each data point\n",
    "# labels = dbscan.labels_\n",
    "\n",
    "# # Add the labels to the original DataFrame\n",
    "# df[\"cluster\"] = labels\n",
    "\n",
    "# # Print the first few rows of the DataFrame to see the cluster labels\n",
    "# print(df.head())"
   ]
  },
  {
   "cell_type": "markdown",
   "metadata": {},
   "source": [
    "We tried to use the results from the KMeans in order model from our previous assignment"
   ]
  },
  {
   "cell_type": "code",
   "execution_count": 15,
   "metadata": {
    "ExecuteTime": {
     "end_time": "2024-04-03T12:59:30.747515400Z",
     "start_time": "2024-04-03T12:59:29.079080900Z"
    }
   },
   "outputs": [
    {
     "name": "stdout",
     "output_type": "stream",
     "text": [
      "Cluster 0:\n",
      "GenHealth         2.946802\n",
      "AgeCategory       2.464568\n",
      "DiffWalking       0.000481\n",
      "Stroke            0.000000\n",
      "Diabetic          0.000000\n",
      "PhysicalHealth    1.024596\n",
      "dtype: float64\n",
      "Cluster 1:\n",
      "GenHealth         2.85770\n",
      "AgeCategory       8.68045\n",
      "DiffWalking       0.00000\n",
      "Stroke            0.00000\n",
      "Diabetic          0.00000\n",
      "PhysicalHealth    0.88117\n",
      "dtype: float64\n",
      "Cluster 2:\n",
      "GenHealth         2.268961\n",
      "AgeCategory       7.908558\n",
      "DiffWalking       0.000000\n",
      "Stroke            0.000000\n",
      "Diabetic          1.000000\n",
      "PhysicalHealth    1.580347\n",
      "dtype: float64\n",
      "Cluster 3:\n",
      "GenHealth          1.086810\n",
      "AgeCategory        7.733262\n",
      "DiffWalking        0.584033\n",
      "Stroke             0.000000\n",
      "Diabetic           0.266960\n",
      "PhysicalHealth    27.924119\n",
      "dtype: float64\n",
      "Cluster 4:\n",
      "GenHealth         1.709835\n",
      "AgeCategory       8.995360\n",
      "DiffWalking       0.442953\n",
      "Stroke            1.000000\n",
      "Diabetic          0.316182\n",
      "PhysicalHealth    8.872483\n",
      "dtype: float64\n",
      "Cluster 5:\n",
      "GenHealth         1.915336\n",
      "AgeCategory       8.849074\n",
      "DiffWalking       1.000000\n",
      "Stroke            0.000000\n",
      "Diabetic          0.287741\n",
      "PhysicalHealth    3.117524\n",
      "dtype: float64\n",
      "Accuracy: 0.9135383605122032\n"
     ]
    },
    {
     "name": "stderr",
     "output_type": "stream",
     "text": [
      "C:\\Users\\chris\\anaconda3\\Lib\\site-packages\\sklearn\\linear_model\\_logistic.py:460: ConvergenceWarning: lbfgs failed to converge (status=1):\n",
      "STOP: TOTAL NO. of ITERATIONS REACHED LIMIT.\n",
      "\n",
      "Increase the number of iterations (max_iter) or scale the data as shown in:\n",
      "    https://scikit-learn.org/stable/modules/preprocessing.html\n",
      "Please also refer to the documentation for alternative solver options:\n",
      "    https://scikit-learn.org/stable/modules/linear_model.html#logistic-regression\n",
      "  n_iter_i = _check_optimize_result(\n"
     ]
    }
   ],
   "source": [
    "# Calculate average value of each feature for each cluster\n",
    "for cluster in set(labels):\n",
    "    cluster_data = features[labels == cluster]\n",
    "    print(f\"Cluster {cluster}:\")\n",
    "    print(cluster_data.mean())\n",
    "\n",
    "from sklearn.linear_model import LogisticRegression\n",
    "from sklearn.model_selection import train_test_split\n",
    "from sklearn.metrics import accuracy_score\n",
    "\n",
    "# Add cluster labels as a new feature\n",
    "df[\"cluster\"] = labels\n",
    "\n",
    "# Split the data into training and test sets\n",
    "X_train, X_test, y_train, y_test = train_test_split(\n",
    "    df.drop(\"HeartDisease\", axis=1), df[\"HeartDisease\"], test_size=0.2, random_state=42\n",
    ")\n",
    "\n",
    "# Train a logistic regression model\n",
    "model = LogisticRegression()\n",
    "model.fit(X_train, y_train)\n",
    "\n",
    "# Make predictions on the test set\n",
    "y_pred = model.predict(X_test)\n",
    "\n",
    "# Evaluate the model\n",
    "accuracy = accuracy_score(y_test, y_pred)\n",
    "print(f\"Accuracy: {accuracy}\")"
   ]
  },
  {
   "cell_type": "markdown",
   "metadata": {},
   "source": [
    "Visualizing the clusters"
   ]
  },
  {
   "cell_type": "code",
   "execution_count": null,
   "metadata": {
    "is_executing": true,
    "ExecuteTime": {
     "start_time": "2024-04-03T12:59:30.754033800Z"
    }
   },
   "outputs": [],
   "source": [
    "import seaborn as sns\n",
    "import matplotlib.pyplot as plt\n",
    "\n",
    "# Create a pairplot of the features, colored by the cluster labels\n",
    "sns.pairplot(df[['GenHealth', 'AgeCategory', 'DiffWalking', 'Stroke', 'Diabetic', 'cluster']], hue='cluster')\n",
    "\n",
    "# Show the plot\n",
    "plt.show()"
   ]
  },
  {
   "cell_type": "markdown",
   "metadata": {},
   "source": [
    "\n",
    "### We didn't use the silhouette score and DBSCAN as well, below are some of the explanations of why we didn't use them. "
   ]
  },
  {
   "cell_type": "markdown",
   "metadata": {},
   "source": [
    "Computational Cost: The Silhouette Score is computationally expensive, especially for large datasets. Our project's dataset is sizable, and calculating the Silhouette Score for various values of k was time-consuming and resource-intensive.\n",
    "\n",
    "Potential Misleading Results in Certain Cases: In scenarios where clusters have varying densities or non-globular shapes, the Silhouette Score might not provide a clear indication of the best number of clusters. For heart disease data, which could have complex and overlapping patterns, the score might not reflect the true clustering tendency.\n",
    "\n",
    "Sensitivity to Noise and Outliers: DBSCAN is a clustering algorithm designed to handle noise and outliers effectively by identifying them as separate from core clusters. The Silhouette Score, however, does not distinguish between noise/outliers and legitimate data points, potentially leading to misleading evaluations of cluster quality.\n",
    "\n",
    "Elbow Method as a Simpler Alternative: The Elbow Method is a simpler and more computationally efficient approach. Although it might be less precise than the Silhouette Score, it can provide a good-enough estimate for the optimal number of clusters, which can be sufficient for many practical applications, including preliminary explorations in healthcare data.\n"
   ]
  },
  {
   "cell_type": "code",
   "outputs": [],
   "source": [],
   "metadata": {
    "collapsed": false,
    "is_executing": true
   }
  }
 ],
 "metadata": {
  "kernelspec": {
   "display_name": "Python 3",
   "language": "python",
   "name": "python3"
  },
  "language_info": {
   "name": "python",
   "version": "3.8.15"
  }
 },
 "nbformat": 4,
 "nbformat_minor": 2
}
